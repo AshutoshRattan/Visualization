{
 "cells": [
  {
   "cell_type": "code",
   "execution_count": 1,
   "metadata": {},
   "outputs": [],
   "source": [
    "import tensorflow.keras as kr\n",
    "import tensorflow as tf\n",
    "import numpy as np\n",
    "from matplotlib import pyplot as plt"
   ]
  },
  {
   "cell_type": "code",
   "execution_count": 2,
   "metadata": {},
   "outputs": [],
   "source": [
    "def path_to_array(path, img_size):\n",
    "    \n",
    "    \"\"\"\n",
    "    returns a (1, img_size, img_size, 3) matrix from values from 0 to 255\n",
    "    \"\"\"\n",
    "    \n",
    "    img_path = path\n",
    "    img = kr.preprocessing.image.load_img(img_path, target_size=(img_size, img_size))\n",
    "    x = kr.preprocessing.image.img_to_array(img)\n",
    "    x = tf.expand_dims(x, 0)\n",
    "    return x"
   ]
  },
  {
   "cell_type": "code",
   "execution_count": 3,
   "metadata": {},
   "outputs": [],
   "source": [
    "def show_image(img):\n",
    "    plt.figure()\n",
    "    plt.imshow(img)"
   ]
  },
  {
   "cell_type": "code",
   "execution_count": 4,
   "metadata": {},
   "outputs": [],
   "source": [
    "def predict(img, model):\n",
    "    img = img / 255\n",
    "    return model.predict(img)"
   ]
  },
  {
   "cell_type": "code",
   "execution_count": null,
   "metadata": {},
   "outputs": [],
   "source": [
    "def intermediate_activation(img, model, layer, conv_net):\n",
    "    l = model.get_layer(index = layer)\n",
    "    layer_outputs = l.output[0, :, :, conv_net]\n",
    "    print(layer_outputs)\n",
    "    activation_model = kr.models.Model(inputs = model.input, outputs = layer_outputs)\n",
    "    vis = activation_model.predict(img)\n",
    "    return vis"
   ]
  },
  {
   "cell_type": "code",
   "execution_count": null,
   "metadata": {},
   "outputs": [],
   "source": [
    "def feature_activation(model, layer, filter_no, step = 1, epoch=40):\n",
    "\n",
    "    input_img_data = np.random.random((1, model.layers[0].input.shape[1], model.layers[0].input.shape[2], 3)) * 20 + 128\n",
    "    input_img_data = tf.Variable(input_img_data, dtype=\"float32\")\n",
    "    acti_model = kr.models.Model(inputs = model.input, outputs = model.get_layer(index = layer).output[:, :, :, filter_no])\n",
    "    for i in range(epoch):\n",
    "        with tf.GradientTape(persistent=True) as gt:\n",
    "            output= acti_model(input_img_data)\n",
    "            loss = kr.backend.mean(output)\n",
    "        \n",
    "        gradients = gt.gradient(loss, input_img_data)        \n",
    "        gradients /= (kr.backend.sqrt(kr.backend.mean(kr.backend.square(gradients))) + 1e-5)\n",
    "        \n",
    "        input_img_data.assign_add(gradients * step)\n",
    "        \n",
    "    input_img_data = input_img_data.numpy()    \n",
    "    input_img_data -= input_img_data.mean()\n",
    "    input_img_data /= (input_img_data.std() + 1e-5)\n",
    "    input_img_data *= 0.1\n",
    "    input_img_data += 0.5\n",
    "    input_img_data = np.clip(input_img_data, 0, 1)\n",
    "    input_img_data *= 255\n",
    "    input_img_data = np.clip(input_img_data, 0, 255).astype('uint8')\n",
    "\n",
    "    return input_img_data[0]"
   ]
  }
 ],
 "metadata": {
  "kernelspec": {
   "display_name": "Python 3",
   "language": "python",
   "name": "python3"
  },
  "language_info": {
   "codemirror_mode": {
    "name": "ipython",
    "version": 3
   },
   "file_extension": ".py",
   "mimetype": "text/x-python",
   "name": "python",
   "nbconvert_exporter": "python",
   "pygments_lexer": "ipython3",
   "version": "3.8.3"
  }
 },
 "nbformat": 4,
 "nbformat_minor": 4
}
